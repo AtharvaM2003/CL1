{
 "cells": [
  {
   "cell_type": "code",
   "execution_count": null,
   "id": "a7b2fcb4",
   "metadata": {},
   "outputs": [],
   "source": [
    "\n",
    "# Importing necessary libraries\n",
    "import pandas as pd\n",
    "import matplotlib.pyplot as plt\n",
    "import seaborn as sns\n",
    "\n",
    "# Configure visualization settings\n",
    "plt.style.use('seaborn-darkgrid')\n",
    "sns.set_theme(style=\"whitegrid\")\n",
    "\n",
    "# Loading the dataset\n",
    "data = pd.read_csv(\"./datasets/data.csv\", encoding=\"cp1252\")\n",
    "data.head()\n"
   ]
  },
  {
   "cell_type": "code",
   "execution_count": null,
   "id": "be47ee45",
   "metadata": {},
   "outputs": [],
   "source": [
    "\n",
    "# Explore the dataset\n",
    "data.info()\n",
    "data.describe()\n"
   ]
  },
  {
   "cell_type": "code",
   "execution_count": null,
   "id": "403eab87",
   "metadata": {},
   "outputs": [],
   "source": [
    "\n",
    "# Convert date column to datetime if needed (replace 'date_column_name' with actual name)\n",
    "data['date'] = pd.to_datetime(data['date'], errors='coerce')\n",
    "\n",
    "# Drop rows with NaT values in 'date' column\n",
    "data = data.dropna(subset=['date'])\n",
    "\n",
    "# Sort by date\n",
    "data = data.sort_values('date')\n",
    "\n",
    "# Plot AQI trend over time\n",
    "plt.figure(figsize=(12, 6))\n",
    "plt.plot(data['date'], data['AQI'], label='AQI', color='b')\n",
    "plt.xlabel(\"Date\")\n",
    "plt.ylabel(\"Air Quality Index (AQI)\")\n",
    "plt.title(\"AQI Trend Over Time\")\n",
    "plt.legend()\n",
    "plt.show()\n"
   ]
  },
  {
   "cell_type": "code",
   "execution_count": null,
   "id": "5e617da7",
   "metadata": {},
   "outputs": [],
   "source": [
    "\n",
    "# Plotting individual pollutant trends over time\n",
    "pollutants = ['PM2.5', 'PM10', 'CO']  # Replace with actual column names if different\n",
    "\n",
    "plt.figure(figsize=(12, 6))\n",
    "for pollutant in pollutants:\n",
    "    plt.plot(data['date'], data[pollutant], label=pollutant)\n",
    "\n",
    "plt.xlabel(\"Date\")\n",
    "plt.ylabel(\"Pollutant Levels\")\n",
    "plt.title(\"Pollutant Trends Over Time\")\n",
    "plt.legend()\n",
    "plt.show()\n"
   ]
  },
  {
   "cell_type": "code",
   "execution_count": null,
   "id": "fd60103f",
   "metadata": {},
   "outputs": [],
   "source": [
    "\n",
    "# Bar plot to compare AQI values across specific time periods (e.g., monthly averages)\n",
    "data['month'] = data['date'].dt.to_period('M')\n",
    "\n",
    "monthly_aqi = data.groupby('month')['AQI'].mean()\n",
    "\n",
    "plt.figure(figsize=(12, 6))\n",
    "monthly_aqi.plot(kind='bar', color='teal')\n",
    "plt.xlabel(\"Month\")\n",
    "plt.ylabel(\"Average AQI\")\n",
    "plt.title(\"Average AQI by Month\")\n",
    "plt.show()\n"
   ]
  },
  {
   "cell_type": "code",
   "execution_count": null,
   "id": "2dd7ea42",
   "metadata": {},
   "outputs": [],
   "source": [
    "\n",
    "# Box plot of AQI values for different pollutants\n",
    "plt.figure(figsize=(10, 6))\n",
    "sns.boxplot(data=data[pollutants])\n",
    "plt.xlabel(\"Pollutants\")\n",
    "plt.ylabel(\"Levels\")\n",
    "plt.title(\"Distribution of Pollutant Levels\")\n",
    "plt.show()\n"
   ]
  },
  {
   "cell_type": "code",
   "execution_count": null,
   "id": "8cce59eb",
   "metadata": {},
   "outputs": [],
   "source": [
    "\n",
    "# Scatter plot to explore relationships between AQI and each pollutant level\n",
    "plt.figure(figsize=(12, 6))\n",
    "for pollutant in pollutants:\n",
    "    plt.scatter(data[pollutant], data['AQI'], label=pollutant, alpha=0.6)\n",
    "\n",
    "plt.xlabel(\"Pollutant Levels\")\n",
    "plt.ylabel(\"AQI\")\n",
    "plt.title(\"Relationship between AQI and Pollutant Levels\")\n",
    "plt.legend()\n",
    "plt.show()\n"
   ]
  },
  {
   "cell_type": "code",
   "execution_count": null,
   "id": "c9ea716e",
   "metadata": {},
   "outputs": [],
   "source": [
    "\n",
    "# Customizing the visualization further\n",
    "plt.figure(figsize=(12, 6))\n",
    "sns.lineplot(data=data, x=\"date\", y=\"AQI\", label=\"AQI\", color=\"blue\", marker=\"o\")\n",
    "sns.lineplot(data=data, x=\"date\", y=\"PM2.5\", label=\"PM2.5\", color=\"red\", marker=\"x\")\n",
    "plt.xlabel(\"Date\")\n",
    "plt.ylabel(\"Index/Level\")\n",
    "plt.title(\"Customized AQI and PM2.5 Trends Over Time\")\n",
    "plt.legend()\n",
    "plt.show()\n"
   ]
  }
 ],
 "metadata": {},
 "nbformat": 4,
 "nbformat_minor": 5
}
